{
 "cells": [
  {
   "cell_type": "markdown",
   "id": "38b3d5d3",
   "metadata": {},
   "source": [
    "RESTFUL API & FLASK - THEORY Q&A"
   ]
  },
  {
   "cell_type": "markdown",
   "id": "32e24957",
   "metadata": {},
   "source": [
    "# 01. What is a RESTful API.\n",
    "- A RESTful API (Representational State of Resource) is an architectural style for designing networked applications. It uses HTTP methods (GET, POST, PUT, DELETE) to interact with resources, providing a simple, flexible, and scalable way to build web services, enabling communication between clients and servers."
   ]
  },
  {
   "cell_type": "markdown",
   "id": "b2cfb7b7",
   "metadata": {},
   "source": [
    "# 02. Explain the concept of API specification.\n",
    "- An API specification defines the structure, endpoints, methods, and data formats for interacting with an API. It outlines the rules and protocols for building, consuming, and integrating APIs, ensuring consistency, clarity, and interoperability between systems, and enabling developers to understand and use the API effectively."
   ]
  },
  {
   "cell_type": "markdown",
   "id": "6831996c",
   "metadata": {},
   "source": [
    "# 03. What is Flask, and why is it popular for building APIs.\n",
    "- Flask is a lightweight, flexible Python web framework ideal for building APIs. Its popularity stems from its:\n",
    "- Simplicity and ease of use\n",
    "- Lightweight and modular design\n",
    "- Extensive libraries and extensions\n",
    "- Flexible routing and request handling\n",
    "- Support for unit testing and debugging\n",
    "- Ideal for rapid prototyping and development of web services and APIs, making it a favorite among developers."
   ]
  },
  {
   "cell_type": "markdown",
   "id": "d2f63135",
   "metadata": {},
   "source": [
    "# 04. What is routing in Flask.\n",
    "- Routing in Flask maps URLs to specific application endpoints. It defines how the application responds to client requests. Using decorators like @app.route(), developers associate URLs with functions, enabling the application to handle different routes and return relevant responses, such as web pages or API data."
   ]
  },
  {
   "cell_type": "markdown",
   "id": "44354d0d",
   "metadata": {},
   "source": [
    "# 05. How do you create a simple Flask application.\n",
    "- To create a simple Flask application:\n",
    "1. Install Flask using pip install Flask.\n",
    "2. Create a new Python file (e.g., app.py).\n",
    "3. Import Flask and create an app instance.\n",
    "4. Define routes using @app.route().\n",
    "5. Run the app using app.run() and access it in your browser."
   ]
  },
  {
   "cell_type": "markdown",
   "id": "82947006",
   "metadata": {},
   "source": [
    "# 06. What are HTTP methods used in RESTful APIs.\n",
    "- HTTP methods used in RESTful APIs:\n",
    "- GET: Retrieve data\n",
    "- POST: Create new data\n",
    "- PUT: Update existing data\n",
    "- DELETE: Delete data\n",
    "These methods allow clients to interact with server resources, enabling CRUD (Create, Read, Update, Delete) operations and facilitating data exchange between clients and servers."
   ]
  },
  {
   "cell_type": "markdown",
   "id": "8fd383b4",
   "metadata": {},
   "source": [
    "# 07. What is the purpose of the @app.route() decorator in Flask.\n",
    "- The @app.route() decorator in Flask associates a URL with a specific function, mapping URLs to application endpoints. It defines how the application responds to client requests, allowing developers to handle different routes and return relevant responses, such as web pages or API data, based on the URL."
   ]
  },
  {
   "cell_type": "markdown",
   "id": "f0bd50b8",
   "metadata": {},
   "source": [
    "# 08. What is the difference between GET and POST HTTP methods.\n",
    "- The main difference between GET and POST HTTP methods is:\n",
    "- GET: Retrieves data from the server, sending data in the URL, and is idempotent (no side effects).\n",
    "- POST: Sends data to the server to create or update resources, sending data in the request body, and can have side effects, such as creating new data."
   ]
  },
  {
   "cell_type": "markdown",
   "id": "593b8458",
   "metadata": {},
   "source": [
    "# 09. How do you handle errors in Flask APIs.\n",
    "- In Flask, errors can be handled using:\n",
    "- Error handlers: Define custom error handlers using @app.errorhandler() decorator.\n",
    "- Try-except blocks: Use try-except blocks to catch and handle exceptions within routes.\n",
    "- Abort function: Use abort() function to raise HTTP exceptions with specific status codes."
   ]
  },
  {
   "cell_type": "markdown",
   "id": "d4a3dabf",
   "metadata": {},
   "source": [
    "# 10. How do you connect Flask to a SQL database.\n",
    "- To connect Flask to a SQL database:\n",
    "1. Install an ORM like Flask-SQLAlchemy using pip install Flask-SQLAlchemy.\n",
    "2. Configure the database URI in your Flask app.\n",
    "3. Create models to define database tables.\n",
    "4. Use the ORM to interact with the database, performing CRUD operations."
   ]
  },
  {
   "cell_type": "markdown",
   "id": "30fab688",
   "metadata": {},
   "source": [
    "# 11. What is the role of Flask-SQLAlchemy.\n",
    "- Flask-SQLAlchemy is an ORM (Object-Relational Mapping) tool that simplifies database interactions in Flask applications. It provides a high-level interface to interact with databases, allowing developers to define models, perform CRUD operations, and manage database schema, making it easier to work with SQL databases."
   ]
  },
  {
   "cell_type": "markdown",
   "id": "1fc5b67e",
   "metadata": {},
   "source": [
    "# 12. What are Flask blueprints, and how are they useful.\n",
    "- Flask blueprints are self-contained components that organize related routes, templates, and static files. They help structure larger applications, promote code reusability, and simplify maintenance. Blueprints enable developers to modularize their code, making it easier to manage and scale complex Flask applications. They also facilitate team collaboration."
   ]
  },
  {
   "cell_type": "markdown",
   "id": "bbd22e62",
   "metadata": {},
   "source": [
    "# 13. What is the purpose of Flask's request object.\n",
    "- Flask's request object provides access to incoming HTTP request data, including:\n",
    "- Method: HTTP method (GET, POST, etc.)\n",
    "- URL: Requested URL\n",
    "- Headers: Request headers\n",
    "- Form data: Data sent in the request body\n",
    "- Query parameters: URL query parameters\n",
    "It allows developers to process and respond to client requests."
   ]
  },
  {
   "cell_type": "markdown",
   "id": "5291d406",
   "metadata": {},
   "source": [
    "# 14. How do you create a RESTful API endpoint using Flask.\n",
    "- To create a RESTful API endpoint in Flask:\n",
    "1. Define a route using @app.route().\n",
    "2. Specify the HTTP method (e.g., @app.route('/users', methods=['GET'])).\n",
    "3. Create a function to handle the request and return a response.\n",
    "4. Use jsonify to return JSON data."
   ]
  },
  {
   "cell_type": "markdown",
   "id": "3645829f",
   "metadata": {},
   "source": [
    "# 15. What is the purpose of Flask's jsonify() function.\n",
    "- Flask's jsonify() function generates a JSON response from Python data structures, such as dictionaries and lists. It sets the correct MIME type (application/json) and returns a Response object, making it easy to create JSON-based APIs and send data to clients in a standardized format."
   ]
  },
  {
   "cell_type": "markdown",
   "id": "e86b8cd8",
   "metadata": {},
   "source": [
    "# 16. Explain Flask’s url_for() function.\n",
    "- Flask's url_for() function generates URLs for routes within an application. It takes the endpoint name and any arguments, returning a URL that can be used in templates or redirects. This helps maintain URL consistency, supports URL routing, and makes it easier to refactor routes without breaking links."
   ]
  },
  {
   "cell_type": "markdown",
   "id": "537d06ed",
   "metadata": {},
   "source": [
    "# 17. How does Flask handle static files (CSS, JavaScript, etc.)\n",
    "- Flask handles static files by serving them from a directory named \"static\" in the application's root directory. You can use the url_for('static', filename='file_name') function to generate URLs for static files, such as CSS, JavaScript, and images, in templates."
   ]
  },
  {
   "cell_type": "markdown",
   "id": "de2d2c38",
   "metadata": {},
   "source": [
    "# 18. What is an API specification, and how does it help in building a Flask API.\n",
    "- An API specification defines the structure, endpoints, methods, and data formats of an API. It helps in building a Flask API by providing a clear blueprint, ensuring consistency, and facilitating communication between developers, clients, and stakeholders. Specifications like OpenAPI/Swagger enable auto-generated documentation and client code."
   ]
  },
  {
   "cell_type": "markdown",
   "id": "39afb1eb",
   "metadata": {},
   "source": [
    "# 19. What are HTTP status codes, and why are they important in a Flask API.\n",
    "- HTTP status codes indicate the outcome of an HTTP request. In a Flask API, they convey the result of a request, such as success (200 OK), client error (404 Not Found), or server error (500 Internal Server Error). Status codes help clients understand the API's response and handle it accordingly, ensuring robust error handling and API reliability."
   ]
  },
  {
   "cell_type": "markdown",
   "id": "6af40c02",
   "metadata": {},
   "source": [
    "# 20.How do you handle POST requests in Flask.\n",
    "- To handle POST requests in Flask:\n",
    "1. Define a route with methods=['POST'].\n",
    "2. Access request data using request.get_json() or request.form.\n",
    "3. Process the data and return a response.\n",
    "4. Use jsonify() to return JSON data.\n",
    "Validate and sanitize user input to ensure security and data integrity."
   ]
  },
  {
   "cell_type": "markdown",
   "id": "ef40b884",
   "metadata": {},
   "source": [
    "# 21. How would you secure a Flask API4.\n",
    "- To secure a Flask API:\n",
    "1. Use HTTPS to encrypt data.\n",
    "2. Implement authentication (e.g., JWT, OAuth).\n",
    "3. Validate and sanitize user input.\n",
    "4. Use secure password storage (e.g., bcrypt).\n",
    "5. Protect against CSRF and SQL injection.\n",
    "6. Regularly update dependencies and monitor for vulnerabilities.\n",
    "7. Use rate limiting to prevent abuse."
   ]
  },
  {
   "cell_type": "markdown",
   "id": "d2611306",
   "metadata": {},
   "source": [
    "# 22. What is the significance of the Flask-RESTful extension.\n",
    "- Flask-RESTful is an extension that simplifies building RESTful APIs with Flask. It provides a high-level interface for defining resources, handling requests, and generating responses. Flask-RESTful promotes code organization, reduces boilerplate code, and makes it easier to build robust and scalable APIs with Flask. It supports argument parsing."
   ]
  },
  {
   "cell_type": "markdown",
   "id": "9a3fd6b3",
   "metadata": {},
   "source": [
    "# 23. What is the role of Flask’s session object?\n",
    "- Flask's session object stores data across requests for a specific user, enabling stateful interactions. It's a dictionary-like object that can store sensitive data securely, using a secret key for encryption. Sessions are useful for authentication, storing user preferences, and maintaining context between requests, enhancing the user experience."
   ]
  },
  {
   "cell_type": "markdown",
   "id": "0b3b5d11",
   "metadata": {},
   "source": [
    "PRACTICAL Q&A-"
   ]
  },
  {
   "cell_type": "code",
   "execution_count": null,
   "id": "9811ba4c",
   "metadata": {},
   "outputs": [
    {
     "name": "stdout",
     "output_type": "stream",
     "text": [
      " * Serving Flask app '__main__'\n",
      " * Debug mode: off\n"
     ]
    },
    {
     "name": "stderr",
     "output_type": "stream",
     "text": [
      "WARNING: This is a development server. Do not use it in a production deployment. Use a production WSGI server instead.\n",
      " * Running on http://127.0.0.1:5000\n",
      "Press CTRL+C to quit\n"
     ]
    }
   ],
   "source": [
    "'''01. How do you create a basic Flask application.'''\n",
    "from flask import Flask\n",
    "app = Flask(__name__)\n",
    "\n",
    "@app.route('/')\n",
    "def hello():\n",
    "    return 'Hello, World!'\n",
    "if __name__ == '__main__':\n",
    "    app.run()"
   ]
  },
  {
   "cell_type": "code",
   "execution_count": null,
   "id": "5766e53b",
   "metadata": {},
   "outputs": [
    {
     "name": "stdout",
     "output_type": "stream",
     "text": [
      " * Serving Flask app '__main__'\n",
      " * Debug mode: off\n"
     ]
    },
    {
     "name": "stderr",
     "output_type": "stream",
     "text": [
      "WARNING: This is a development server. Do not use it in a production deployment. Use a production WSGI server instead.\n",
      " * Running on http://127.0.0.1:5000\n",
      "Press CTRL+C to quit\n"
     ]
    }
   ],
   "source": [
    "'''02. How do you serve static files like images or CSS in Flask.'''\n",
    "from flask import Flask, send_from_directory\n",
    "app = Flask(__name__)\n",
    "# Serve static files\n",
    "@app.route('/static/<path:path>')\n",
    "def send_static(path):\n",
    "    return send_from_directory('static', path)\n",
    "if __name__ == '__main__':\n",
    "    app.run()"
   ]
  },
  {
   "cell_type": "code",
   "execution_count": 6,
   "id": "d6f841f1",
   "metadata": {},
   "outputs": [
    {
     "name": "stdout",
     "output_type": "stream",
     "text": [
      " * Serving Flask app '__main__'\n",
      " * Debug mode: on\n"
     ]
    },
    {
     "name": "stderr",
     "output_type": "stream",
     "text": [
      "WARNING: This is a development server. Do not use it in a production deployment. Use a production WSGI server instead.\n",
      " * Running on http://127.0.0.1:5000\n",
      "Press CTRL+C to quit\n",
      " * Restarting with stat\n"
     ]
    },
    {
     "ename": "SystemExit",
     "evalue": "1",
     "output_type": "error",
     "traceback": [
      "An exception has occurred, use %tb to see the full traceback.\n",
      "\u001b[31mSystemExit\u001b[39m\u001b[31m:\u001b[39m 1\n"
     ]
    }
   ],
   "source": [
    "'''03. How do you define different routes with different HTTP methods in Flask.'''\n",
    "from flask import Flask, request, jsonify\n",
    "\n",
    "app = Flask(__name__)\n",
    "\n",
    "# Define a route for GET method\n",
    "@app.route('/users', methods=['GET'])\n",
    "def get_users():\n",
    "    # Handle GET request logic\n",
    "    return jsonify({\"message\": \"Getting users\"})\n",
    "\n",
    "# Define a route for POST method\n",
    "@app.route('/users', methods=['POST'])\n",
    "def create_user():\n",
    "    # Handle POST request logic\n",
    "    data = request.json\n",
    "    return jsonify({\"message\": \"User created\", \"data\": data})\n",
    "\n",
    "# Define a route for PUT method\n",
    "@app.route('/users/1', methods=['PUT'])\n",
    "def update_user():\n",
    "    # Handle PUT request logic\n",
    "    data = request.json\n",
    "    return jsonify({\"message\": \"User updated\", \"data\": data})\n",
    "\n",
    "# Define a route for DELETE method\n",
    "@app.route('/users/1', methods=['DELETE'])\n",
    "def delete_user():\n",
    "    # Handle DELETE request logic\n",
    "    return jsonify({\"message\": \"User deleted\"})\n",
    "\n",
    "if __name__ == '__main__':\n",
    "    app.run(debug=True)"
   ]
  },
  {
   "cell_type": "code",
   "execution_count": null,
   "id": "4c413be6",
   "metadata": {},
   "outputs": [
    {
     "name": "stdout",
     "output_type": "stream",
     "text": [
      " * Serving Flask app '__main__'\n",
      " * Debug mode: off\n"
     ]
    },
    {
     "name": "stderr",
     "output_type": "stream",
     "text": [
      "WARNING: This is a development server. Do not use it in a production deployment. Use a production WSGI server instead.\n",
      " * Running on http://127.0.0.1:5000\n",
      "Press CTRL+C to quit\n"
     ]
    }
   ],
   "source": [
    "'''04. How do you render HTML templates in Flask.'''\n",
    "from flask import Flask, render_template\n",
    "\n",
    "app = Flask(__name__)\n",
    " \n",
    "@app.route('/')\n",
    "def index():\n",
    "    return render_template('index.html')\n",
    "\n",
    "if __name__ == '__main__':\n",
    "    app.run()"
   ]
  },
  {
   "cell_type": "code",
   "execution_count": null,
   "id": "4ca15ef4",
   "metadata": {},
   "outputs": [
    {
     "name": "stdout",
     "output_type": "stream",
     "text": [
      "/\n",
      "/user/John%20Doe\n"
     ]
    },
    {
     "data": {
      "text/plain": [
       "\"\\nExplanation:\\n\\n1. url_for takes the endpoint name (function name) as the first argument.\\n2. Pass keyword arguments for route parameters.\\n\\nUse cases:\\n\\n1. Generating URLs in templates: {{ url_for('index') }}\\n2. Redirecting: redirect(url_for('index'))\\n\\nBenefits:\\n\\n1. URL generation is automatic.\\n2. Handles route parameter encoding.\\n\\nNeed more help or examples?\""
      ]
     },
     "execution_count": 3,
     "metadata": {},
     "output_type": "execute_result"
    }
   ],
   "source": [
    "'''05. How can you generate URLs for routes in Flask using url_for.'''\n",
    "from flask import Flask, url_for\n",
    "\n",
    "app = Flask(__name__)\n",
    "\n",
    "@app.route('/')\n",
    "def index():\n",
    "    return 'Index Page'\n",
    "\n",
    "@app.route('/user/<username>')\n",
    "def show_user_profile(username):\n",
    "    return f'User {username}'\n",
    "\n",
    "with app.test_request_context():\n",
    "    print(url_for('index'))  # Output: /\n",
    "    print(url_for('show_user_profile', username='John Doe'))  # Output: /user/John%20Doe"
   ]
  },
  {
   "cell_type": "code",
   "execution_count": null,
   "id": "769dc829",
   "metadata": {},
   "outputs": [
    {
     "name": "stdout",
     "output_type": "stream",
     "text": [
      " * Serving Flask app '__main__'\n",
      " * Debug mode: on\n"
     ]
    },
    {
     "name": "stderr",
     "output_type": "stream",
     "text": [
      "WARNING: This is a development server. Do not use it in a production deployment. Use a production WSGI server instead.\n",
      " * Running on http://127.0.0.1:5000\n",
      "Press CTRL+C to quit\n",
      " * Restarting with stat\n"
     ]
    },
    {
     "ename": "SystemExit",
     "evalue": "1",
     "output_type": "error",
     "traceback": [
      "An exception has occurred, use %tb to see the full traceback.\n",
      "\u001b[31mSystemExit\u001b[39m\u001b[31m:\u001b[39m 1\n"
     ]
    },
    {
     "name": "stderr",
     "output_type": "stream",
     "text": [
      "c:\\Users\\laxmi\\AppData\\Local\\Programs\\Python\\Python313\\Lib\\site-packages\\IPython\\core\\interactiveshell.py:3678: UserWarning: To exit: use 'exit', 'quit', or Ctrl-D.\n",
      "  warn(\"To exit: use 'exit', 'quit', or Ctrl-D.\", stacklevel=1)\n"
     ]
    }
   ],
   "source": [
    "'''06. How do you handle forms in Flask.'''\n",
    "from flask import Flask, request\n",
    "\n",
    "app = Flask(__name__)\n",
    "\n",
    "@app.route('/submit', methods=['POST'])\n",
    "def handle_form():\n",
    "    name = request.form['name']\n",
    "    email = request.form['email']\n",
    "    # Process form data\n",
    "    return 'Form submitted successfully'\n",
    "\n",
    "@app.route('/form')\n",
    "def show_form():\n",
    "    return \n",
    "if __name__ == '__main__':\n",
    "    app.run(debug=True)"
   ]
  },
  {
   "cell_type": "code",
   "execution_count": null,
   "id": "7973779e",
   "metadata": {},
   "outputs": [
    {
     "name": "stdout",
     "output_type": "stream",
     "text": [
      " * Serving Flask app '__main__'\n",
      " * Debug mode: on\n"
     ]
    },
    {
     "name": "stderr",
     "output_type": "stream",
     "text": [
      "WARNING: This is a development server. Do not use it in a production deployment. Use a production WSGI server instead.\n",
      " * Running on http://127.0.0.1:5000\n",
      "Press CTRL+C to quit\n",
      " * Restarting with stat\n"
     ]
    },
    {
     "ename": "SystemExit",
     "evalue": "1",
     "output_type": "error",
     "traceback": [
      "An exception has occurred, use %tb to see the full traceback.\n",
      "\u001b[31mSystemExit\u001b[39m\u001b[31m:\u001b[39m 1\n"
     ]
    }
   ],
   "source": [
    "'''07. How can you validate form data in Flask.'''\n",
    "from flask import Flask, render_template, redirect, url_for\n",
    "from flask_wtf import FlaskForm\n",
    "from wtforms import StringField, SubmitField\n",
    "from wtforms.validators import DataRequired, Email\n",
    "\n",
    "app = Flask(__name__)\n",
    "app.config['SECRET_KEY'] = 'secret_key'\n",
    "\n",
    "class MyForm(FlaskForm):\n",
    "    name = StringField('Name', validators=[DataRequired()])\n",
    "    email = StringField('Email', validators=[DataRequired(), Email()])\n",
    "    submit = SubmitField('Submit')\n",
    "\n",
    "@app.route('/form', methods=['GET', 'POST'])\n",
    "def handle_form():\n",
    "    form = MyForm()\n",
    "    if form.validate_on_submit():\n",
    "        name = form.name.data\n",
    "        email = form.email.data\n",
    "        # Process form data\n",
    "        return redirect(url_for('success'))\n",
    "    return render_template('form.html', form=form)\n",
    "\n",
    "@app.route('/success')\n",
    "def success():\n",
    "    return 'Form submitted successfully'\n",
    "\n",
    "if __name__ == '__main__':\n",
    "    app.run(debug=True)"
   ]
  },
  {
   "cell_type": "code",
   "execution_count": null,
   "id": "423eb265",
   "metadata": {},
   "outputs": [
    {
     "name": "stdout",
     "output_type": "stream",
     "text": [
      " * Serving Flask app '__main__'\n",
      " * Debug mode: on\n"
     ]
    },
    {
     "name": "stderr",
     "output_type": "stream",
     "text": [
      "WARNING: This is a development server. Do not use it in a production deployment. Use a production WSGI server instead.\n",
      " * Running on http://127.0.0.1:5000\n",
      "Press CTRL+C to quit\n",
      " * Restarting with stat\n"
     ]
    },
    {
     "ename": "SystemExit",
     "evalue": "1",
     "output_type": "error",
     "traceback": [
      "An exception has occurred, use %tb to see the full traceback.\n",
      "\u001b[31mSystemExit\u001b[39m\u001b[31m:\u001b[39m 1\n"
     ]
    },
    {
     "name": "stderr",
     "output_type": "stream",
     "text": [
      "c:\\Users\\laxmi\\flask_project\\venv\\Lib\\site-packages\\IPython\\core\\interactiveshell.py:3675: UserWarning: To exit: use 'exit', 'quit', or Ctrl-D.\n",
      "  warn(\"To exit: use 'exit', 'quit', or Ctrl-D.\", stacklevel=1)\n"
     ]
    }
   ],
   "source": [
    "'''08. How do you manage sessions in Flask.'''\n",
    "from flask import Flask, session\n",
    "\n",
    "app = Flask(__name__)\n",
    "app.config['SECRET_KEY'] = 'secret_key'\n",
    "\n",
    "@app.route('/login')\n",
    "def login():\n",
    "    session['username'] = 'john'\n",
    "    return 'Logged in'\n",
    "\n",
    "@app.route('/protected')\n",
    "def protected():\n",
    "    if 'username' in session:\n",
    "        return f'Hello, {session[\"username\"]}'\n",
    "    return 'Not logged in'\n",
    "\n",
    "@app.route('/logout')\n",
    "def logout():\n",
    "    session.pop('username', None)\n",
    "    return 'Logged out'\n",
    "\n",
    "if __name__ == '__main__':\n",
    "    app.run(debug=True)"
   ]
  },
  {
   "cell_type": "code",
   "execution_count": null,
   "id": "22cf8174",
   "metadata": {},
   "outputs": [
    {
     "name": "stdout",
     "output_type": "stream",
     "text": [
      " * Serving Flask app '__main__'\n",
      " * Debug mode: on\n"
     ]
    },
    {
     "name": "stderr",
     "output_type": "stream",
     "text": [
      "WARNING: This is a development server. Do not use it in a production deployment. Use a production WSGI server instead.\n",
      " * Running on http://127.0.0.1:5000\n",
      "Press CTRL+C to quit\n",
      " * Restarting with stat\n"
     ]
    },
    {
     "ename": "SystemExit",
     "evalue": "1",
     "output_type": "error",
     "traceback": [
      "An exception has occurred, use %tb to see the full traceback.\n",
      "\u001b[31mSystemExit\u001b[39m\u001b[31m:\u001b[39m 1\n"
     ]
    }
   ],
   "source": [
    "'''09. How do you redirect to a different route in Flask.'''\n",
    "from flask import Flask, redirect, url_for\n",
    "\n",
    "app = Flask(__name__)\n",
    "\n",
    "@app.route('/')\n",
    "def index():\n",
    "    return 'Index Page'\n",
    "\n",
    "@app.route('/old-page')\n",
    "def old_page():\n",
    "    return redirect(url_for('new_page'))\n",
    "\n",
    "@app.route('/new-page')\n",
    "def new_page():\n",
    "    return 'New Page'\n",
    "\n",
    "if __name__ == '__main__':\n",
    "    app.run(debug=True)"
   ]
  },
  {
   "cell_type": "code",
   "execution_count": null,
   "id": "14cfa653",
   "metadata": {},
   "outputs": [
    {
     "name": "stdout",
     "output_type": "stream",
     "text": [
      " * Serving Flask app '__main__'\n",
      " * Debug mode: on\n"
     ]
    },
    {
     "name": "stderr",
     "output_type": "stream",
     "text": [
      "WARNING: This is a development server. Do not use it in a production deployment. Use a production WSGI server instead.\n",
      " * Running on http://127.0.0.1:5000\n",
      "Press CTRL+C to quit\n",
      " * Restarting with stat\n"
     ]
    },
    {
     "ename": "SystemExit",
     "evalue": "1",
     "output_type": "error",
     "traceback": [
      "An exception has occurred, use %tb to see the full traceback.\n",
      "\u001b[31mSystemExit\u001b[39m\u001b[31m:\u001b[39m 1\n"
     ]
    },
    {
     "name": "stderr",
     "output_type": "stream",
     "text": [
      "c:\\Users\\laxmi\\flask_project\\venv\\Lib\\site-packages\\IPython\\core\\interactiveshell.py:3675: UserWarning: To exit: use 'exit', 'quit', or Ctrl-D.\n",
      "  warn(\"To exit: use 'exit', 'quit', or Ctrl-D.\", stacklevel=1)\n"
     ]
    }
   ],
   "source": [
    "'''10. How do you handle errors in Flask (e.g., 404).'''\n",
    "from flask import Flask, render_template\n",
    "\n",
    "app = Flask(__name__)\n",
    "\n",
    "# Custom 404 error handler\n",
    "@app.errorhandler(404)\n",
    "def page_not_found(e):\n",
    "    return render_template('404.html'), 404\n",
    "\n",
    "# Custom 500 error handler\n",
    "@app.errorhandler(500)\n",
    "def internal_server_error(e):\n",
    "    return render_template('500.html'), 500\n",
    "\n",
    "if __name__ == '__main__':\n",
    "    app.run(debug=True)\n",
    "    "
   ]
  },
  {
   "cell_type": "code",
   "execution_count": null,
   "id": "c7d58b68",
   "metadata": {},
   "outputs": [],
   "source": [
    "'''11. How do you structure a Flask app using Blueprints.'''\n",
    "from flask import Flask\n",
    "from app.blueprints.users.routes import users_blueprint\n",
    "\n",
    "app = Flask(__name__)\n",
    "app.register_blueprint(users_blueprint)\n",
    "'''Example routes.py:'''\n",
    "from flask import Blueprint\n",
    "\n",
    "users_blueprint = Blueprint('users', __name__)\n",
    "\n",
    "@users_blueprint.route('/users')\n",
    "def users():\n",
    "    return 'Users page'"
   ]
  },
  {
   "cell_type": "code",
   "execution_count": null,
   "id": "d6ab3787",
   "metadata": {},
   "outputs": [
    {
     "name": "stdout",
     "output_type": "stream",
     "text": [
      " * Serving Flask app '__main__'\n",
      " * Debug mode: on\n"
     ]
    },
    {
     "name": "stderr",
     "output_type": "stream",
     "text": [
      "WARNING: This is a development server. Do not use it in a production deployment. Use a production WSGI server instead.\n",
      " * Running on http://127.0.0.1:5000\n",
      "Press CTRL+C to quit\n",
      " * Restarting with stat\n"
     ]
    },
    {
     "ename": "SystemExit",
     "evalue": "1",
     "output_type": "error",
     "traceback": [
      "An exception has occurred, use %tb to see the full traceback.\n",
      "\u001b[31mSystemExit\u001b[39m\u001b[31m:\u001b[39m 1\n"
     ]
    },
    {
     "name": "stderr",
     "output_type": "stream",
     "text": [
      "c:\\Users\\laxmi\\flask_project\\venv\\Lib\\site-packages\\IPython\\core\\interactiveshell.py:3675: UserWarning: To exit: use 'exit', 'quit', or Ctrl-D.\n",
      "  warn(\"To exit: use 'exit', 'quit', or Ctrl-D.\", stacklevel=1)\n"
     ]
    }
   ],
   "source": [
    "'''12. How do you define a custom Jinja filter in Flask.'''\n",
    "from flask import Flask\n",
    "\n",
    "app = Flask(__name__)\n",
    "\n",
    "# Define a custom filter\n",
    "@app.template_filter('datetimeformat')\n",
    "def datetimeformat(value, format='%Y-%m-%d %H:%M:%S'):\n",
    "    return value.strftime(format)\n",
    "\n",
    "# Use the filter in your template\n",
    "# {{ my_date | datetimeformat }}\n",
    "\n",
    "if __name__ == '__main__':\n",
    "    app.run(debug=True)"
   ]
  },
  {
   "cell_type": "code",
   "execution_count": null,
   "id": "6e3392c2",
   "metadata": {},
   "outputs": [
    {
     "name": "stdout",
     "output_type": "stream",
     "text": [
      " * Serving Flask app '__main__'\n",
      " * Debug mode: on\n"
     ]
    },
    {
     "name": "stderr",
     "output_type": "stream",
     "text": [
      "WARNING: This is a development server. Do not use it in a production deployment. Use a production WSGI server instead.\n",
      " * Running on http://127.0.0.1:5000\n",
      "Press CTRL+C to quit\n",
      " * Restarting with stat\n"
     ]
    },
    {
     "ename": "SystemExit",
     "evalue": "1",
     "output_type": "error",
     "traceback": [
      "An exception has occurred, use %tb to see the full traceback.\n",
      "\u001b[31mSystemExit\u001b[39m\u001b[31m:\u001b[39m 1\n"
     ]
    },
    {
     "name": "stderr",
     "output_type": "stream",
     "text": [
      "c:\\Users\\laxmi\\flask_project\\venv\\Lib\\site-packages\\IPython\\core\\interactiveshell.py:3675: UserWarning: To exit: use 'exit', 'quit', or Ctrl-D.\n",
      "  warn(\"To exit: use 'exit', 'quit', or Ctrl-D.\", stacklevel=1)\n"
     ]
    }
   ],
   "source": [
    "'''13. How can you redirect with query parameters in Flask.'''\n",
    "from flask import Flask, redirect, url_for\n",
    "\n",
    "app = Flask(__name__)\n",
    "\n",
    "@app.route('/old-page')\n",
    "def old_page():\n",
    "    return redirect(url_for('new_page', param1='value1', param2='value2'))\n",
    "\n",
    "@app.route('/new-page')\n",
    "def new_page():\n",
    "    param1 = request.args.get('param1')\n",
    "    param2 = request.args.get('param2')\n",
    "    return f\"Param 1: {param1}, Param 2: {param2}\"\n",
    "\n",
    "if __name__ == '__main__':\n",
    "    app.run(debug=True)"
   ]
  },
  {
   "cell_type": "code",
   "execution_count": null,
   "id": "b95e5450",
   "metadata": {},
   "outputs": [],
   "source": [
    "'''13. How do you return JSON responses in Flask4'''\n",
    "from flask import Flask, jsonify\n",
    "\n",
    "app = Flask(__name__)\n",
    "\n",
    "@app.route('/api/data', methods=['GET'])\n",
    "def get_data():\n",
    "    data = {'name': 'John', 'age': 30}\n",
    "    return jsonify(data)\n",
    "\n",
    "if __name__ == '__main__':\n",
    "    app.run()"
   ]
  },
  {
   "cell_type": "code",
   "execution_count": null,
   "id": "9214526b",
   "metadata": {
    "scrolled": true
   },
   "outputs": [
    {
     "name": "stdout",
     "output_type": "stream",
     "text": [
      " * Serving Flask app '__main__'\n",
      " * Debug mode: off\n"
     ]
    },
    {
     "name": "stderr",
     "output_type": "stream",
     "text": [
      "WARNING: This is a development server. Do not use it in a production deployment. Use a production WSGI server instead.\n",
      " * Running on http://127.0.0.1:5000\n",
      "Press CTRL+C to quit\n"
     ]
    }
   ],
   "source": [
    "'''14. D-M How do you capture URL parameters in Flask'''\n",
    "from flask import Flask\n",
    "\n",
    "app = Flask(__name__)\n",
    "\n",
    "@app.route('/user/<username>')\n",
    "def show_user_profile(username):\n",
    "    return f'User: {username}'\n",
    "\n",
    "@app.route('/post/<int:post_id>')\n",
    "def show_post(post_id):\n",
    "    return f'Post ID: {post_id}'\n",
    "\n",
    "if __name__ == '__main__':\n",
    "    app.run()"
   ]
  }
 ],
 "metadata": {
  "kernelspec": {
   "display_name": "Python 3 (ipykernel)",
   "language": "python",
   "name": "python3"
  },
  "language_info": {
   "codemirror_mode": {
    "name": "ipython",
    "version": 3
   },
   "file_extension": ".py",
   "mimetype": "text/x-python",
   "name": "python",
   "nbconvert_exporter": "python",
   "pygments_lexer": "ipython3",
   "version": "3.13.3"
  }
 },
 "nbformat": 4,
 "nbformat_minor": 5
}
